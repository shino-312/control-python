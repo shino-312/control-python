{
 "cells": [
  {
   "cell_type": "markdown",
   "id": "2ce97d14",
   "metadata": {},
   "source": [
    "# Pythonによる制御工学入門（オーム社）\n",
    "## Chapter 1 ~ 3\n",
    "\n",
    "2022/2/6作成"
   ]
  },
  {
   "cell_type": "code",
   "execution_count": 1,
   "id": "ce9d548e",
   "metadata": {},
   "outputs": [],
   "source": [
    "import numpy as np\n",
    "import control as ct\n",
    "%matplotlib qt"
   ]
  },
  {
   "cell_type": "code",
   "execution_count": 2,
   "id": "452f07a5",
   "metadata": {},
   "outputs": [
    {
     "name": "stdout",
     "output_type": "stream",
     "text": [
      "\n",
      "        s + 2\n",
      "---------------------\n",
      "s^3 + 5 s^2 + 3 s + 4\n",
      "\n"
     ]
    }
   ],
   "source": [
    "# Page 67\n",
    "Np = [1,2]\n",
    "Dp = [1,5,3,4]\n",
    "\n",
    "P = ct.tf(Np, Dp)\n",
    "print(P)"
   ]
  },
  {
   "cell_type": "code",
   "execution_count": 3,
   "id": "30555980",
   "metadata": {},
   "outputs": [
    {
     "name": "stdout",
     "output_type": "stream",
     "text": [
      "\n",
      "        s + 3\n",
      "---------------------\n",
      "s^3 + 5 s^2 + 8 s + 4\n",
      "\n",
      "[1 3]\n",
      "[1 5 8 4]\n"
     ]
    }
   ],
   "source": [
    "# Page 68\n",
    "s1 = ct.tf([1,3],[1])\n",
    "s2 = ct.tf([1],[1,1])\n",
    "s3 = ct.tf([1],[1,2])\n",
    "\n",
    "P = s1*s2*s3**2\n",
    "print(P)\n",
    "\n",
    "[[Pnum]], [[Pden]] = ct.tfdata(P)\n",
    "print(Pnum) #分子: numerator\n",
    "print(Pden) #分母: denominator"
   ]
  },
  {
   "cell_type": "code",
   "execution_count": 4,
   "id": "05920c80",
   "metadata": {},
   "outputs": [
    {
     "name": "stdout",
     "output_type": "stream",
     "text": [
      "A = [[ 0.  1.]\n",
      "     [-1. -1.]]\n",
      "\n",
      "B = [[0.]\n",
      "     [1.]]\n",
      "\n",
      "C = [[1. 0.]]\n",
      "\n",
      "D = [[0.]]\n",
      "\n"
     ]
    }
   ],
   "source": [
    "# Page 75\n",
    "A = '0 1; -1 -1'\n",
    "B = '0; 1'\n",
    "C = '1 0'\n",
    "D = '0'\n",
    "\n",
    "P = ct.ss(A,B,C,D)\n",
    "print(P)"
   ]
  },
  {
   "cell_type": "code",
   "execution_count": 5,
   "id": "0f5fd3b9",
   "metadata": {},
   "outputs": [
    {
     "name": "stdout",
     "output_type": "stream",
     "text": [
      "A = [[1. 1. 2.]\n",
      "     [2. 1. 1.]\n",
      "     [3. 4. 5.]]\n",
      "\n",
      "B = [[2.]\n",
      "     [0.]\n",
      "     [1.]]\n",
      "\n",
      "C = [[1. 1. 0.]]\n",
      "\n",
      "D = [[1.]]\n",
      "\n",
      "A= [[1. 1. 2.]\n",
      " [2. 1. 1.]\n",
      " [3. 4. 5.]]\n",
      "B= [[2.]\n",
      " [0.]\n",
      " [1.]]\n",
      "C= [[1. 1. 0.]]\n",
      "D= [[1.]]\n",
      "A= [[1. 1. 2.]\n",
      " [2. 1. 1.]\n",
      " [3. 4. 5.]]\n",
      "B= [[2.]\n",
      " [0.]\n",
      " [1.]]\n",
      "C= [[1. 1. 0.]]\n",
      "D= [[1.]]\n"
     ]
    }
   ],
   "source": [
    "# Page 75\n",
    "A = '1 1 2; 2 1 1; 3 4 5'\n",
    "B = '2; 0; 1'\n",
    "C = '1 1 0'\n",
    "D = '1'\n",
    "\n",
    "P = ct.ss(A,B,C,D)\n",
    "print(P)\n",
    "print('A=', P.A)\n",
    "print('B=', P.B)\n",
    "print('C=', P.C)\n",
    "print('D=', P.D)\n",
    "\n",
    "PA, PB, PC, PD = ct.ssdata(P)\n",
    "print('A=', PA)\n",
    "print('B=', PB)\n",
    "print('C=', PC)\n",
    "print('D=', PD)"
   ]
  },
  {
   "cell_type": "code",
   "execution_count": 6,
   "id": "e56fedf1",
   "metadata": {},
   "outputs": [
    {
     "name": "stdout",
     "output_type": "stream",
     "text": [
      "\n",
      "  3 s^2 + 7 s + 2\n",
      "--------------------\n",
      "7 s^3 + 17 s^2 + 7 s\n",
      "\n"
     ]
    }
   ],
   "source": [
    "# Page 82\n",
    "S1 = ct.tf([1],[1,1])\n",
    "S2 = ct.tf([1],[1,2])\n",
    "S3 = ct.tf([3,1],[1,0])\n",
    "S4 = ct.tf([2,0],[1])\n",
    "\n",
    "Sa = ct.feedback(S1,S2)\n",
    "Sb = ct.series(S3,Sa)\n",
    "Sc = ct.feedback(Sb,S4)\n",
    "\n",
    "print(Sc)"
   ]
  },
  {
   "cell_type": "code",
   "execution_count": null,
   "id": "7ef6b096",
   "metadata": {},
   "outputs": [],
   "source": []
  }
 ],
 "metadata": {
  "kernelspec": {
   "display_name": "Python 3 (ipykernel)",
   "language": "python",
   "name": "python3"
  },
  "language_info": {
   "codemirror_mode": {
    "name": "ipython",
    "version": 3
   },
   "file_extension": ".py",
   "mimetype": "text/x-python",
   "name": "python",
   "nbconvert_exporter": "python",
   "pygments_lexer": "ipython3",
   "version": "3.8.10"
  }
 },
 "nbformat": 4,
 "nbformat_minor": 5
}
